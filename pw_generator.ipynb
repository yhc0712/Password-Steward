{
 "cells": [
  {
   "cell_type": "markdown",
   "source": [
    "# Password Steward\r\n",
    "\r\n",
    "This project seeks to implement PyQt as user interface. Currently only codes for the core calculation or generation of passwords are written. In future development, this file might become callable by other modules, e.g. logic file of Qt, within this project."
   ],
   "metadata": {}
  },
  {
   "cell_type": "markdown",
   "source": [
    "libraries used in the generator"
   ],
   "metadata": {}
  },
  {
   "cell_type": "code",
   "execution_count": 15,
   "source": [
    "import string\r\n",
    "import validator as vd"
   ],
   "outputs": [],
   "metadata": {}
  },
  {
   "cell_type": "markdown",
   "source": [
    "Below requests the user to give information on the details of the password she/he needs, including the length, use of UPPERCASE LETTERS, lowercase letters, and symbols.\r\n",
    "\r\n",
    "**Further development of this project might substitute this block by qt interface.**"
   ],
   "metadata": {}
  },
  {
   "cell_type": "code",
   "execution_count": 16,
   "source": [
    "while True:\r\n",
    "    pw_len = vd.val(\"What's the length of your password?\")\r\n",
    "    num = vd.val(\"Do you need numbers? (Y/N)\")\r\n",
    "    upl = vd.val(\"Do you need uppercase letters? (Y/N)\")\r\n",
    "    lwl = vd.val(\"Do you need lowercase letters? (Y/N)\")\r\n",
    "    sym = vd.val(\"Do you need symbols? (Y/N)\")\r\n",
    "\r\n",
    "    # to check if the types of characters required exceed the length requested\r\n",
    "    types_required = [num, upl, lwl, sym]\r\n",
    "    val_result = vd.pw_len_check(pw_len, types_required)\r\n",
    "    if val_result == \"again\":\r\n",
    "        continue\r\n",
    "    else:\r\n",
    "        break"
   ],
   "outputs": [],
   "metadata": {}
  },
  {
   "cell_type": "markdown",
   "source": [
    "Initialize the characters of each component needed for the new password. For example, if the user says she/he wants UPPERCASE LETTERS in the password and answers \"Y\" to the question \"Do you need uppercase letters?\", the length count dictionary captures the answer and add 1 to its count for UPPERCASE LETTERS for further calculation."
   ],
   "metadata": {}
  },
  {
   "cell_type": "code",
   "execution_count": 17,
   "source": [
    "# dfet = digit for each type\r\n",
    "dfet = {}\r\n",
    "\r\n",
    "\r\n",
    "if num == \"Y\":\r\n",
    "    dfet['num'] = 1\r\n",
    "\r\n",
    "if upl == \"Y\":\r\n",
    "    dfet['upl'] = 1\r\n",
    "\r\n",
    "if lwl == \"Y\":\r\n",
    "    dfet['lwl'] = 1\r\n",
    "\r\n",
    "if sym == \"Y\":\r\n",
    "    dfet['sym'] = 1\r\n"
   ],
   "outputs": [],
   "metadata": {}
  },
  {
   "cell_type": "markdown",
   "source": [
    "Create some variables to determine the quantities of each type of characters we're going to use in the password using python's random library.\r\n",
    "\r\n",
    "* *curr_len* is the number of characters already assigned to each type of character.\r\n",
    "\r\n",
    "* *need_char_len* is the remaining quantity of characters that needs to assign to each type of character.\r\n"
   ],
   "metadata": {}
  },
  {
   "cell_type": "code",
   "execution_count": 18,
   "source": [
    "curr_len = sum(dfet.values())\r\n",
    "need_char_len = pw_len - curr_len\r\n"
   ],
   "outputs": [],
   "metadata": {}
  },
  {
   "cell_type": "markdown",
   "source": [
    "Use `determinator()` to determine the digits to be used by each type of characters in the password."
   ],
   "metadata": {}
  },
  {
   "cell_type": "code",
   "execution_count": 19,
   "source": [
    "vd.determinator(dfet, need_char_len)"
   ],
   "outputs": [
    {
     "output_type": "execute_result",
     "data": {
      "text/plain": [
       "{'num': 5, 'upl': 2, 'lwl': 1, 'sym': 4}"
      ]
     },
     "metadata": {},
     "execution_count": 19
    }
   ],
   "metadata": {}
  },
  {
   "cell_type": "markdown",
   "source": [
    "Feed the processed dictionary `dfet` into the generator. Voila! A brand new complex password meeting your needs is generated."
   ],
   "metadata": {}
  },
  {
   "cell_type": "code",
   "execution_count": 20,
   "source": [
    "password = vd.generator(dfet)"
   ],
   "outputs": [],
   "metadata": {}
  },
  {
   "cell_type": "code",
   "execution_count": 21,
   "source": [
    "print(f'Your password is {password}')"
   ],
   "outputs": [
    {
     "output_type": "stream",
     "name": "stdout",
     "text": [
      "Your password is 1654?!#2=VyZ\n"
     ]
    }
   ],
   "metadata": {}
  }
 ],
 "metadata": {
  "orig_nbformat": 4,
  "language_info": {
   "name": "python",
   "version": "3.9.6",
   "mimetype": "text/x-python",
   "codemirror_mode": {
    "name": "ipython",
    "version": 3
   },
   "pygments_lexer": "ipython3",
   "nbconvert_exporter": "python",
   "file_extension": ".py"
  },
  "kernelspec": {
   "name": "python3",
   "display_name": "Python 3.9.6 64-bit"
  },
  "interpreter": {
   "hash": "f02d560cf77919909173ee933419f2ca8be2925dbb51b1de4a70ff555054750e"
  }
 },
 "nbformat": 4,
 "nbformat_minor": 2
}